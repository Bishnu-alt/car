{
  "cells": [
    {
      "cell_type": "code",
      "execution_count": 7,
      "metadata": {
        "colab": {
          "base_uri": "https://localhost:8080/"
        },
        "id": "hD8TRh0rCSmO",
        "outputId": "c60b9fe5-37e5-4833-fbcc-248ceb569807"
      },
      "outputs": [
        {
          "name": "stdout",
          "output_type": "stream",
          "text": [
            "Requirement already satisfied: easyocr in d:\\car-number-plates-detection-main\\car-number-plates-detection-main\\.venv\\lib\\site-packages (1.7.1)\n",
            "Requirement already satisfied: torch in d:\\car-number-plates-detection-main\\car-number-plates-detection-main\\.venv\\lib\\site-packages (from easyocr) (2.4.0)\n",
            "Requirement already satisfied: torchvision>=0.5 in d:\\car-number-plates-detection-main\\car-number-plates-detection-main\\.venv\\lib\\site-packages (from easyocr) (0.19.0)\n",
            "Requirement already satisfied: opencv-python-headless in d:\\car-number-plates-detection-main\\car-number-plates-detection-main\\.venv\\lib\\site-packages (from easyocr) (4.10.0.84)\n",
            "Requirement already satisfied: scipy in d:\\car-number-plates-detection-main\\car-number-plates-detection-main\\.venv\\lib\\site-packages (from easyocr) (1.14.0)\n",
            "Requirement already satisfied: numpy in d:\\car-number-plates-detection-main\\car-number-plates-detection-main\\.venv\\lib\\site-packages (from easyocr) (1.26.4)\n",
            "Requirement already satisfied: Pillow in d:\\car-number-plates-detection-main\\car-number-plates-detection-main\\.venv\\lib\\site-packages (from easyocr) (10.4.0)\n",
            "Requirement already satisfied: scikit-image in d:\\car-number-plates-detection-main\\car-number-plates-detection-main\\.venv\\lib\\site-packages (from easyocr) (0.24.0)\n",
            "Requirement already satisfied: python-bidi in d:\\car-number-plates-detection-main\\car-number-plates-detection-main\\.venv\\lib\\site-packages (from easyocr) (0.6.0)\n",
            "Requirement already satisfied: PyYAML in d:\\car-number-plates-detection-main\\car-number-plates-detection-main\\.venv\\lib\\site-packages (from easyocr) (6.0.2)\n",
            "Requirement already satisfied: Shapely in d:\\car-number-plates-detection-main\\car-number-plates-detection-main\\.venv\\lib\\site-packages (from easyocr) (2.0.5)\n",
            "Requirement already satisfied: pyclipper in d:\\car-number-plates-detection-main\\car-number-plates-detection-main\\.venv\\lib\\site-packages (from easyocr) (1.3.0.post5)\n",
            "Requirement already satisfied: ninja in d:\\car-number-plates-detection-main\\car-number-plates-detection-main\\.venv\\lib\\site-packages (from easyocr) (1.11.1.1)\n",
            "Requirement already satisfied: filelock in d:\\car-number-plates-detection-main\\car-number-plates-detection-main\\.venv\\lib\\site-packages (from torch->easyocr) (3.15.4)\n",
            "Requirement already satisfied: typing-extensions>=4.8.0 in d:\\car-number-plates-detection-main\\car-number-plates-detection-main\\.venv\\lib\\site-packages (from torch->easyocr) (4.12.2)\n",
            "Requirement already satisfied: sympy in d:\\car-number-plates-detection-main\\car-number-plates-detection-main\\.venv\\lib\\site-packages (from torch->easyocr) (1.13.2)\n",
            "Requirement already satisfied: networkx in d:\\car-number-plates-detection-main\\car-number-plates-detection-main\\.venv\\lib\\site-packages (from torch->easyocr) (3.3)\n",
            "Requirement already satisfied: jinja2 in d:\\car-number-plates-detection-main\\car-number-plates-detection-main\\.venv\\lib\\site-packages (from torch->easyocr) (3.1.4)\n",
            "Requirement already satisfied: fsspec in d:\\car-number-plates-detection-main\\car-number-plates-detection-main\\.venv\\lib\\site-packages (from torch->easyocr) (2024.6.1)\n",
            "Requirement already satisfied: setuptools in d:\\car-number-plates-detection-main\\car-number-plates-detection-main\\.venv\\lib\\site-packages (from torch->easyocr) (72.2.0)\n",
            "Requirement already satisfied: imageio>=2.33 in d:\\car-number-plates-detection-main\\car-number-plates-detection-main\\.venv\\lib\\site-packages (from scikit-image->easyocr) (2.35.0)\n",
            "Requirement already satisfied: tifffile>=2022.8.12 in d:\\car-number-plates-detection-main\\car-number-plates-detection-main\\.venv\\lib\\site-packages (from scikit-image->easyocr) (2024.8.10)\n",
            "Requirement already satisfied: packaging>=21 in d:\\car-number-plates-detection-main\\car-number-plates-detection-main\\.venv\\lib\\site-packages (from scikit-image->easyocr) (24.1)\n",
            "Requirement already satisfied: lazy-loader>=0.4 in d:\\car-number-plates-detection-main\\car-number-plates-detection-main\\.venv\\lib\\site-packages (from scikit-image->easyocr) (0.4)\n",
            "Requirement already satisfied: MarkupSafe>=2.0 in d:\\car-number-plates-detection-main\\car-number-plates-detection-main\\.venv\\lib\\site-packages (from jinja2->torch->easyocr) (2.1.5)\n",
            "Requirement already satisfied: mpmath<1.4,>=1.1.0 in d:\\car-number-plates-detection-main\\car-number-plates-detection-main\\.venv\\lib\\site-packages (from sympy->torch->easyocr) (1.3.0)\n"
          ]
        }
      ],
      "source": [
        "!pip install easyocr"
      ]
    },
    {
      "cell_type": "code",
      "execution_count": 9,
      "metadata": {
        "id": "6wKgPU52CZ6K"
      },
      "outputs": [
        {
          "ename": "ModuleNotFoundError",
          "evalue": "No module named 'matplotlib'",
          "output_type": "error",
          "traceback": [
            "\u001b[1;31m---------------------------------------------------------------------------\u001b[0m",
            "\u001b[1;31mModuleNotFoundError\u001b[0m                       Traceback (most recent call last)",
            "Cell \u001b[1;32mIn[9], line 1\u001b[0m\n\u001b[1;32m----> 1\u001b[0m \u001b[38;5;28;01mimport\u001b[39;00m \u001b[38;5;21;01mmatplotlib\u001b[39;00m\u001b[38;5;21;01m.\u001b[39;00m\u001b[38;5;21;01mpyplot\u001b[39;00m \u001b[38;5;28;01mas\u001b[39;00m \u001b[38;5;21;01mplt\u001b[39;00m\n\u001b[0;32m      2\u001b[0m \u001b[38;5;28;01mimport\u001b[39;00m \u001b[38;5;21;01mcv2\u001b[39;00m\n\u001b[0;32m      3\u001b[0m \u001b[38;5;28;01mimport\u001b[39;00m \u001b[38;5;21;01measyocr\u001b[39;00m\n",
            "\u001b[1;31mModuleNotFoundError\u001b[0m: No module named 'matplotlib'"
          ]
        }
      ],
      "source": [
        "import matplotlib.pyplot as plt\n",
        "import cv2\n",
        "import easyocr\n",
        "from IPython.display import Image"
      ]
    },
    {
      "cell_type": "code",
      "execution_count": 10,
      "metadata": {
        "colab": {
          "base_uri": "https://localhost:8080/",
          "height": 65
        },
        "id": "hxBLiy0AChPp",
        "outputId": "6f8e0eb9-eeaf-4561-dd16-50689139a125"
      },
      "outputs": [
        {
          "ename": "NameError",
          "evalue": "name 'Image' is not defined",
          "output_type": "error",
          "traceback": [
            "\u001b[1;31m---------------------------------------------------------------------------\u001b[0m",
            "\u001b[1;31mNameError\u001b[0m                                 Traceback (most recent call last)",
            "Cell \u001b[1;32mIn[10], line 1\u001b[0m\n\u001b[1;32m----> 1\u001b[0m \u001b[43mImage\u001b[49m(\u001b[38;5;124m\"\u001b[39m\u001b[38;5;124m/content/scaned_img_0.jpg\u001b[39m\u001b[38;5;124m\"\u001b[39m)\n",
            "\u001b[1;31mNameError\u001b[0m: name 'Image' is not defined"
          ]
        }
      ],
      "source": [
        "Image(\"/content/scaned_img_0.jpg\")"
      ]
    },
    {
      "cell_type": "code",
      "execution_count": 11,
      "metadata": {
        "colab": {
          "base_uri": "https://localhost:8080/"
        },
        "id": "ZYD5fu4NCq2U",
        "outputId": "8a9390ef-9bad-443f-88d8-48411a496fc6"
      },
      "outputs": [
        {
          "ename": "NameError",
          "evalue": "name 'easyocr' is not defined",
          "output_type": "error",
          "traceback": [
            "\u001b[1;31m---------------------------------------------------------------------------\u001b[0m",
            "\u001b[1;31mNameError\u001b[0m                                 Traceback (most recent call last)",
            "Cell \u001b[1;32mIn[11], line 1\u001b[0m\n\u001b[1;32m----> 1\u001b[0m reader \u001b[38;5;241m=\u001b[39m \u001b[43measyocr\u001b[49m\u001b[38;5;241m.\u001b[39mReader([\u001b[38;5;124m'\u001b[39m\u001b[38;5;124men\u001b[39m\u001b[38;5;124m'\u001b[39m])\n",
            "\u001b[1;31mNameError\u001b[0m: name 'easyocr' is not defined"
          ]
        }
      ],
      "source": [
        "\n",
        "reader = easyocr.Reader(['en'])"
      ]
    },
    {
      "cell_type": "code",
      "execution_count": 12,
      "metadata": {
        "id": "ZCHP-450Cl9x"
      },
      "outputs": [
        {
          "ename": "NameError",
          "evalue": "name 'reader' is not defined",
          "output_type": "error",
          "traceback": [
            "\u001b[1;31m---------------------------------------------------------------------------\u001b[0m",
            "\u001b[1;31mNameError\u001b[0m                                 Traceback (most recent call last)",
            "Cell \u001b[1;32mIn[12], line 1\u001b[0m\n\u001b[1;32m----> 1\u001b[0m output \u001b[38;5;241m=\u001b[39m \u001b[43mreader\u001b[49m\u001b[38;5;241m.\u001b[39mreadtext(\u001b[38;5;124m'\u001b[39m\u001b[38;5;124m/content/scaned_img_0.jpg\u001b[39m\u001b[38;5;124m'\u001b[39m)\n",
            "\u001b[1;31mNameError\u001b[0m: name 'reader' is not defined"
          ]
        }
      ],
      "source": [
        "\n",
        "output = reader.readtext('/content/scaned_img_0.jpg')"
      ]
    },
    {
      "cell_type": "code",
      "execution_count": 13,
      "metadata": {
        "colab": {
          "base_uri": "https://localhost:8080/"
        },
        "id": "Ao44WMNJC_4R",
        "outputId": "4f9bc326-5f01-4871-9388-86c3726df528"
      },
      "outputs": [
        {
          "ename": "NameError",
          "evalue": "name 'output' is not defined",
          "output_type": "error",
          "traceback": [
            "\u001b[1;31m---------------------------------------------------------------------------\u001b[0m",
            "\u001b[1;31mNameError\u001b[0m                                 Traceback (most recent call last)",
            "Cell \u001b[1;32mIn[13], line 1\u001b[0m\n\u001b[1;32m----> 1\u001b[0m \u001b[43moutput\u001b[49m\n",
            "\u001b[1;31mNameError\u001b[0m: name 'output' is not defined"
          ]
        }
      ],
      "source": [
        "output"
      ]
    }
  ],
  "metadata": {
    "accelerator": "GPU",
    "colab": {
      "provenance": []
    },
    "kernelspec": {
      "display_name": "Python 3",
      "name": "python3"
    },
    "language_info": {
      "codemirror_mode": {
        "name": "ipython",
        "version": 3
      },
      "file_extension": ".py",
      "mimetype": "text/x-python",
      "name": "python",
      "nbconvert_exporter": "python",
      "pygments_lexer": "ipython3",
      "version": "3.12.3"
    }
  },
  "nbformat": 4,
  "nbformat_minor": 0
}
